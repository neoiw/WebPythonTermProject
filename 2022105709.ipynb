{
 "cells": [
  {
   "cell_type": "markdown",
   "metadata": {},
   "source": [
    "# 2022학년도 1학기 Term Project \n",
    "컴퓨터공학과 2022105709 오준서"
   ]
  },
  {
   "cell_type": "markdown",
   "metadata": {},
   "source": [
    "# 주제: Discord 채팅 분석기\n",
    "\n",
    "# 주제 선정 이유:\n",
    "\n",
    "온라인 채팅 프로그램 Discord 의 채팅 기록을 외부프로그램을 이용해 추출해서 그 내용을 분석하고자 했다. 프로젝트 진행자가 좋아하는 프로그램이기에 프로젝트 진행이 흥미로울것 같아 채택했다.\n",
    "\n",
    "# 가설 정의:\n",
    "\n",
    "온라인 채팅방에서 사용자가 할수 있는것은 다양하다. 사진을 올리거나, 링크를 첨부하거나, 또는 여러 은어들을 이용해 다른 사람들과 소통을 할수 있다. 분석기를 통해 이용자들의 사용 패턴을 알아보고자 한다.\n",
    "\n",
    "# 인터넷을 통한 데이터의 획득:\n",
    "\n",
    "* https://discord.com/ - Discord\n",
    "* https://github.com/Tyrrrz/DiscordChatExporter - Discord Chat Exporter\n",
    "\n",
    "Discord 자체에는 채팅로그를 추출하는 기능이 없어 API를 통해 해야하나 실력이 충분치 않아 오픈소스 프로젝트를 활용했다. \n",
    "\n",
    "# 분석을 위한 데이터의 가공:\n",
    "\n",
    "분석을 위한 데이터는 DiscordChatExporter를 이용해 추출해내었다. 터미널 명령어로 DiscordChatExporter의 CLI를 사용해 데이터를 추출했다.\n",
    "\n",
    "`dotnet .\\\\DiscordChatExporter.CLI\\\\DiscordChatExporter.Cli.dll export -t \"<유저의 Discord API 토큰\" -c {Discord 채널ID} -f \"CSV\" -o \"output.csv`\n",
    "\n",
    "이후 Python 의 os모듈로 Python 프로그램 내에서 이 명령어를 수행하도록 했다."
   ]
  },
  {
   "cell_type": "code",
   "execution_count": null,
   "metadata": {},
   "outputs": [],
   "source": [
    "import os\n",
    "\n",
    "user_token = input(\"Your Discord user token: \")\n",
    "channel_id = input(\"Discord channel ID: \")\n",
    "os.system('cmd /c \"dotnet .\\\\DiscordChatExporter.CLI\\\\DiscordChatExporter.Cli.dll export -t \"{0}\" -c {1} -f \"CSV\" -o \"output.csv\"'.format(user_token,channel_id))"
   ]
  },
  {
   "cell_type": "markdown",
   "metadata": {},
   "source": [
    "# 분석 결과 도출\n",
    "\n",
    "이렇게 csv 파일로 추출된 파일을 파이썬의 csv모듈로 필요한 부분만 뺴내는 작업을 했다."
   ]
  },
  {
   "cell_type": "code",
   "execution_count": null,
   "metadata": {},
   "outputs": [],
   "source": [
    "import csv\n",
    "\n",
    "with open(\"output.csv\", encoding='utf-8') as csv_file:\n",
    "    cr = csv.reader(csv_file, delimiter=\",\")\n",
    "    \n",
    "    count = {}\n",
    "    for line in cr:\n",
    "        if line[1] == \"Author\":\n",
    "            continue\n",
    "        if line[1] not in count.keys():\n",
    "            count[line[1]]=1\n",
    "            continue\n",
    "        if line[1] in count.keys():\n",
    "            count[line[1]] += 1"
   ]
  },
  {
   "cell_type": "markdown",
   "metadata": {},
   "source": [
    "# 결론\n",
    "\n",
    "이렇게 각각의 Discord 유저가 해당 채널에서 얼마나 활발했는지 알 수 있게 되었다.\n",
    "\n",
    "# 참고문헌\n",
    "\n",
    "* https://github.com/Tyrrrz/DiscordChatExporter/wiki\n",
    "* https://www.codevscolor.com/python-read-csv-column\n",
    "* https://devpouch.tistory.com/55\n",
    "* https://realpython.com/python-csv/\n",
    "* https://www.geeksforgeeks.org/working-csv-files-python/\n",
    "\n",
    "# 별첨 (획득 데이터 원본)\n",
    "\n",
    "Repository의 output.csv \n",
    "\n",
    "# 별첨 (가공 데이터 원본)\n",
    "\n",
    "Python 소스코드의 count 딕셔너리\n",
    "\n",
    "# 별첨 (전체코드)\n",
    "\n",
    "Repository 의 TP.py"
   ]
  },
  {
   "cell_type": "code",
   "execution_count": null,
   "metadata": {},
   "outputs": [],
   "source": [
    "import os\n",
    "import csv\n",
    "\n",
    "def grab():\n",
    "    user_token = input(\"Your Discord user token: \")\n",
    "    channel_id = input(\"Discord channel ID: \")\n",
    "    os.system('cmd /c \"dotnet .\\\\DiscordChatExporter.CLI\\\\DiscordChatExporter.Cli.dll export -t \"{0}\" -c {1} -f \"CSV\" -o \"output.csv\"'.format(user_token,channel_id))\n",
    "\n",
    "\n",
    "def analyze():\n",
    "    with open(\"output.csv\", encoding='utf-8') as csv_file:\n",
    "        cr = csv.reader(csv_file, delimiter=\",\")\n",
    "        \n",
    "        count = {}\n",
    "\n",
    "        for line in cr:\n",
    "            if line[1] == \"Author\":\n",
    "                continue\n",
    "            if line[1] not in count.keys():\n",
    "                count[line[1]]=1\n",
    "                continue\n",
    "            if line[1] in count.keys():\n",
    "                count[line[1]] += 1\n",
    "    \n",
    "        print(count)\n",
    "\n",
    "\n",
    "\n",
    "if __name__ == '__main__':\n",
    "    #grab()\n",
    "    analyze()"
   ]
  }
 ],
 "metadata": {
  "interpreter": {
   "hash": "14dee0c97050be5795edd35b401cece2faabc1c0c73a396bd9e10ede04ed5024"
  },
  "kernelspec": {
   "display_name": "Python 3.10.2 64-bit",
   "language": "python",
   "name": "python3"
  },
  "language_info": {
   "codemirror_mode": {
    "name": "ipython",
    "version": 3
   },
   "file_extension": ".py",
   "mimetype": "text/x-python",
   "name": "python",
   "nbconvert_exporter": "python",
   "pygments_lexer": "ipython3",
   "version": "3.10.2"
  },
  "orig_nbformat": 4
 },
 "nbformat": 4,
 "nbformat_minor": 2
}
