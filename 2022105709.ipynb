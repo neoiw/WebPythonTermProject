{
 "cells": [
  {
   "cell_type": "markdown",
   "metadata": {},
   "source": [
    "# 2022학년도 1학기 Term Project \n",
    "컴퓨터공학과 2022105709 오준서"
   ]
  },
  {
   "cell_type": "markdown",
   "metadata": {},
   "source": [
    "# 주제: Discord 채팅 분석기\n",
    "\n",
    "# 주제 선정 이유:\n",
    "\n",
    "온라인 채팅 프로그램 Discord 의 채팅 기록을 외부프로그램을 이용해 추출해서 그 내용을 분석하고자 했다. 프로젝트 진행자가 좋아하는 프로그램이기에 프로젝트 진행이 흥미로울것 같아 채택했다.\n",
    "\n",
    "# 가설 정의:\n",
    "\n",
    "온라인 채팅방에서 사용자가 할수 있는것은 다양하다. 사진을 올리거나, 링크를 첨부하거나, 또는 여러 은어들을 이용해 다른 사람들과 소통을 할수 있다. 분석기를 통해 이용자들, 또는 특정 이용자의 사용패턴을 알아보고자 한다.\n",
    "\n",
    "# 인터넷을 통한 데이터의 획득:\n",
    "\n",
    "* https://discord.com/ - Discord\n",
    "* https://github.com/Tyrrrz/DiscordChatExporter - Discord Chat Exporter\n",
    "\n",
    "Discord 자체에는 채팅로그를 추출하는 기능이 없어 API를 통해 해야하나 본인의 실력이 충분치 않아 오픈소스 프로젝트를 활용했다.\n",
    "\n",
    "# 분석을 위한 데이터의 가공:\n",
    "\n",
    "TBD"
   ]
  }
 ],
 "metadata": {
  "interpreter": {
   "hash": "14dee0c97050be5795edd35b401cece2faabc1c0c73a396bd9e10ede04ed5024"
  },
  "kernelspec": {
   "display_name": "Python 3.10.2 64-bit",
   "language": "python",
   "name": "python3"
  },
  "language_info": {
   "codemirror_mode": {
    "name": "ipython",
    "version": 3
   },
   "file_extension": ".py",
   "mimetype": "text/x-python",
   "name": "python",
   "nbconvert_exporter": "python",
   "pygments_lexer": "ipython3",
   "version": "3.10.2"
  },
  "orig_nbformat": 4
 },
 "nbformat": 4,
 "nbformat_minor": 2
}
